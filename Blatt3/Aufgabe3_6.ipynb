{
 "cells": [
  {
   "cell_type": "code",
   "execution_count": 2,
   "metadata": {},
   "outputs": [
    {
     "name": "stdout",
     "output_type": "stream",
     "text": [
      "Runde 1 \n",
      "\n",
      "Aktuelles x[:,k]\n",
      "\n"
     ]
    },
    {
     "data": {
      "text/latex": [
       "$\\displaystyle \\left[\\begin{matrix}a\\\\1\\end{matrix}\\right]$"
      ],
      "text/plain": [
       "Matrix([\n",
       "[a],\n",
       "[1]])"
      ]
     },
     "metadata": {},
     "output_type": "display_data"
    },
    {
     "name": "stdout",
     "output_type": "stream",
     "text": [
      "Schrittweite t\n",
      "\n"
     ]
    },
    {
     "data": {
      "text/latex": [
       "$\\displaystyle \\frac{2 a^{2}}{a^{3} + a^{2}}$"
      ],
      "text/plain": [
       "2*a**2/(a**3 + a**2)"
      ]
     },
     "metadata": {},
     "output_type": "display_data"
    },
    {
     "data": {
      "text/latex": [
       "$\\displaystyle \\frac{2}{a + 1}$"
      ],
      "text/plain": [
       "2/(a + 1)"
      ]
     },
     "metadata": {},
     "output_type": "display_data"
    },
    {
     "name": "stdout",
     "output_type": "stream",
     "text": [
      "Nabla f\n",
      "\n"
     ]
    },
    {
     "data": {
      "text/latex": [
       "$\\displaystyle \\left[\\begin{matrix}a\\\\a\\end{matrix}\\right]$"
      ],
      "text/plain": [
       "Matrix([\n",
       "[a],\n",
       "[a]])"
      ]
     },
     "metadata": {},
     "output_type": "display_data"
    },
    {
     "name": "stdout",
     "output_type": "stream",
     "text": [
      "neues x\n",
      " \n"
     ]
    },
    {
     "data": {
      "text/latex": [
       "$\\displaystyle \\left[\\begin{matrix}\\frac{a \\left(a - 1\\right)}{a + 1}\\\\- \\frac{a - 1}{a + 1}\\end{matrix}\\right]$"
      ],
      "text/plain": [
       "Matrix([\n",
       "[a*(a - 1)/(a + 1)],\n",
       "[ -(a - 1)/(a + 1)]])"
      ]
     },
     "metadata": {},
     "output_type": "display_data"
    },
    {
     "name": "stdout",
     "output_type": "stream",
     "text": [
      "neue matrix\n"
     ]
    },
    {
     "data": {
      "text/latex": [
       "$\\displaystyle \\left[\\begin{matrix}a & \\frac{a \\left(a - 1\\right)}{a + 1}\\\\1 & - \\frac{a - 1}{a + 1}\\end{matrix}\\right]$"
      ],
      "text/plain": [
       "Matrix([\n",
       "[a, a*(a - 1)/(a + 1)],\n",
       "[1,  -(a - 1)/(a + 1)]])"
      ]
     },
     "metadata": {},
     "output_type": "display_data"
    },
    {
     "name": "stdout",
     "output_type": "stream",
     "text": [
      "Runde 2 \n",
      "\n",
      "Aktuelles x[:,k]\n",
      "\n"
     ]
    },
    {
     "data": {
      "text/latex": [
       "$\\displaystyle \\left[\\begin{matrix}\\frac{a \\left(a - 1\\right)}{a + 1}\\\\- \\frac{a - 1}{a + 1}\\end{matrix}\\right]$"
      ],
      "text/plain": [
       "Matrix([\n",
       "[a*(a - 1)/(a + 1)],\n",
       "[ -(a - 1)/(a + 1)]])"
      ]
     },
     "metadata": {},
     "output_type": "display_data"
    },
    {
     "name": "stdout",
     "output_type": "stream",
     "text": [
      "Schrittweite t\n",
      "\n"
     ]
    },
    {
     "data": {
      "text/latex": [
       "$\\displaystyle \\frac{2 a^{2} \\left(a - 1\\right)^{2}}{\\left(a + 1\\right)^{2} \\left(\\frac{a^{3} \\left(a - 1\\right)^{2}}{\\left(a + 1\\right)^{2}} + \\frac{a^{2} \\left(a - 1\\right)^{2}}{\\left(a + 1\\right)^{2}}\\right)}$"
      ],
      "text/plain": [
       "2*a**2*(a - 1)**2/((a + 1)**2*(a**3*(a - 1)**2/(a + 1)**2 + a**2*(a - 1)**2/(a + 1)**2))"
      ]
     },
     "metadata": {},
     "output_type": "display_data"
    },
    {
     "data": {
      "text/latex": [
       "$\\displaystyle \\frac{2}{a + 1}$"
      ],
      "text/plain": [
       "2/(a + 1)"
      ]
     },
     "metadata": {},
     "output_type": "display_data"
    },
    {
     "name": "stdout",
     "output_type": "stream",
     "text": [
      "Nabla f\n",
      "\n"
     ]
    },
    {
     "data": {
      "text/latex": [
       "$\\displaystyle \\left[\\begin{matrix}\\frac{a \\left(a - 1\\right)}{a + 1}\\\\\\frac{a \\left(1 - a\\right)}{a + 1}\\end{matrix}\\right]$"
      ],
      "text/plain": [
       "Matrix([\n",
       "[a*(a - 1)/(a + 1)],\n",
       "[a*(1 - a)/(a + 1)]])"
      ]
     },
     "metadata": {},
     "output_type": "display_data"
    },
    {
     "name": "stdout",
     "output_type": "stream",
     "text": [
      "neues x\n",
      " \n"
     ]
    },
    {
     "data": {
      "text/latex": [
       "$\\displaystyle \\left[\\begin{matrix}\\frac{a \\left(a - 1\\right)^{2}}{\\left(a + 1\\right)^{2}}\\\\\\frac{\\left(a - 1\\right)^{2}}{\\left(a + 1\\right)^{2}}\\end{matrix}\\right]$"
      ],
      "text/plain": [
       "Matrix([\n",
       "[a*(a - 1)**2/(a + 1)**2],\n",
       "[  (a - 1)**2/(a + 1)**2]])"
      ]
     },
     "metadata": {},
     "output_type": "display_data"
    },
    {
     "name": "stdout",
     "output_type": "stream",
     "text": [
      "neue matrix\n"
     ]
    },
    {
     "data": {
      "text/latex": [
       "$\\displaystyle \\left[\\begin{matrix}a & \\frac{a \\left(a - 1\\right)}{a + 1} & \\frac{a \\left(a - 1\\right)^{2}}{\\left(a + 1\\right)^{2}}\\\\1 & - \\frac{a - 1}{a + 1} & \\frac{\\left(a - 1\\right)^{2}}{\\left(a + 1\\right)^{2}}\\end{matrix}\\right]$"
      ],
      "text/plain": [
       "Matrix([\n",
       "[a, a*(a - 1)/(a + 1), a*(a - 1)**2/(a + 1)**2],\n",
       "[1,  -(a - 1)/(a + 1),   (a - 1)**2/(a + 1)**2]])"
      ]
     },
     "metadata": {},
     "output_type": "display_data"
    },
    {
     "name": "stdout",
     "output_type": "stream",
     "text": [
      "Runde 3 \n",
      "\n",
      "Aktuelles x[:,k]\n",
      "\n"
     ]
    },
    {
     "data": {
      "text/latex": [
       "$\\displaystyle \\left[\\begin{matrix}\\frac{a \\left(a - 1\\right)^{2}}{\\left(a + 1\\right)^{2}}\\\\\\frac{\\left(a - 1\\right)^{2}}{\\left(a + 1\\right)^{2}}\\end{matrix}\\right]$"
      ],
      "text/plain": [
       "Matrix([\n",
       "[a*(a - 1)**2/(a + 1)**2],\n",
       "[  (a - 1)**2/(a + 1)**2]])"
      ]
     },
     "metadata": {},
     "output_type": "display_data"
    },
    {
     "name": "stdout",
     "output_type": "stream",
     "text": [
      "Schrittweite t\n",
      "\n"
     ]
    },
    {
     "data": {
      "text/latex": [
       "$\\displaystyle \\frac{2 a^{2} \\left(a - 1\\right)^{4}}{\\left(a + 1\\right)^{4} \\left(\\frac{a^{3} \\left(a - 1\\right)^{4}}{\\left(a + 1\\right)^{4}} + \\frac{a^{2} \\left(a - 1\\right)^{4}}{\\left(a + 1\\right)^{4}}\\right)}$"
      ],
      "text/plain": [
       "2*a**2*(a - 1)**4/((a + 1)**4*(a**3*(a - 1)**4/(a + 1)**4 + a**2*(a - 1)**4/(a + 1)**4))"
      ]
     },
     "metadata": {},
     "output_type": "display_data"
    },
    {
     "data": {
      "text/latex": [
       "$\\displaystyle \\frac{2}{a + 1}$"
      ],
      "text/plain": [
       "2/(a + 1)"
      ]
     },
     "metadata": {},
     "output_type": "display_data"
    },
    {
     "name": "stdout",
     "output_type": "stream",
     "text": [
      "Nabla f\n",
      "\n"
     ]
    },
    {
     "data": {
      "text/latex": [
       "$\\displaystyle \\left[\\begin{matrix}\\frac{a \\left(a - 1\\right)^{2}}{\\left(a + 1\\right)^{2}}\\\\\\frac{a \\left(a - 1\\right)^{2}}{\\left(a + 1\\right)^{2}}\\end{matrix}\\right]$"
      ],
      "text/plain": [
       "Matrix([\n",
       "[a*(a - 1)**2/(a + 1)**2],\n",
       "[a*(a - 1)**2/(a + 1)**2]])"
      ]
     },
     "metadata": {},
     "output_type": "display_data"
    },
    {
     "name": "stdout",
     "output_type": "stream",
     "text": [
      "neues x\n",
      " \n"
     ]
    },
    {
     "data": {
      "text/latex": [
       "$\\displaystyle \\left[\\begin{matrix}\\frac{a \\left(a - 1\\right)^{3}}{\\left(a + 1\\right)^{3}}\\\\- \\frac{\\left(a - 1\\right)^{3}}{\\left(a + 1\\right)^{3}}\\end{matrix}\\right]$"
      ],
      "text/plain": [
       "Matrix([\n",
       "[a*(a - 1)**3/(a + 1)**3],\n",
       "[ -(a - 1)**3/(a + 1)**3]])"
      ]
     },
     "metadata": {},
     "output_type": "display_data"
    },
    {
     "name": "stdout",
     "output_type": "stream",
     "text": [
      "neue matrix\n"
     ]
    },
    {
     "data": {
      "text/latex": [
       "$\\displaystyle \\left[\\begin{matrix}a & \\frac{a \\left(a - 1\\right)}{a + 1} & \\frac{a \\left(a - 1\\right)^{2}}{\\left(a + 1\\right)^{2}} & \\frac{a \\left(a - 1\\right)^{3}}{\\left(a + 1\\right)^{3}}\\\\1 & - \\frac{a - 1}{a + 1} & \\frac{\\left(a - 1\\right)^{2}}{\\left(a + 1\\right)^{2}} & - \\frac{\\left(a - 1\\right)^{3}}{\\left(a + 1\\right)^{3}}\\end{matrix}\\right]$"
      ],
      "text/plain": [
       "Matrix([\n",
       "[a, a*(a - 1)/(a + 1), a*(a - 1)**2/(a + 1)**2, a*(a - 1)**3/(a + 1)**3],\n",
       "[1,  -(a - 1)/(a + 1),   (a - 1)**2/(a + 1)**2,  -(a - 1)**3/(a + 1)**3]])"
      ]
     },
     "metadata": {},
     "output_type": "display_data"
    },
    {
     "name": "stdout",
     "output_type": "stream",
     "text": [
      "Runde 4 \n",
      "\n",
      "Aktuelles x[:,k]\n",
      "\n"
     ]
    },
    {
     "data": {
      "text/latex": [
       "$\\displaystyle \\left[\\begin{matrix}\\frac{a \\left(a - 1\\right)^{3}}{\\left(a + 1\\right)^{3}}\\\\- \\frac{\\left(a - 1\\right)^{3}}{\\left(a + 1\\right)^{3}}\\end{matrix}\\right]$"
      ],
      "text/plain": [
       "Matrix([\n",
       "[a*(a - 1)**3/(a + 1)**3],\n",
       "[ -(a - 1)**3/(a + 1)**3]])"
      ]
     },
     "metadata": {},
     "output_type": "display_data"
    },
    {
     "name": "stdout",
     "output_type": "stream",
     "text": [
      "Schrittweite t\n",
      "\n"
     ]
    },
    {
     "data": {
      "text/latex": [
       "$\\displaystyle \\frac{2 a^{2} \\left(a - 1\\right)^{6}}{\\left(a + 1\\right)^{6} \\left(\\frac{a^{3} \\left(a - 1\\right)^{6}}{\\left(a + 1\\right)^{6}} + \\frac{a^{2} \\left(a - 1\\right)^{6}}{\\left(a + 1\\right)^{6}}\\right)}$"
      ],
      "text/plain": [
       "2*a**2*(a - 1)**6/((a + 1)**6*(a**3*(a - 1)**6/(a + 1)**6 + a**2*(a - 1)**6/(a + 1)**6))"
      ]
     },
     "metadata": {},
     "output_type": "display_data"
    },
    {
     "data": {
      "text/latex": [
       "$\\displaystyle \\frac{2}{a + 1}$"
      ],
      "text/plain": [
       "2/(a + 1)"
      ]
     },
     "metadata": {},
     "output_type": "display_data"
    },
    {
     "name": "stdout",
     "output_type": "stream",
     "text": [
      "Nabla f\n",
      "\n"
     ]
    },
    {
     "data": {
      "text/latex": [
       "$\\displaystyle \\left[\\begin{matrix}\\frac{a \\left(a - 1\\right)^{3}}{\\left(a + 1\\right)^{3}}\\\\- \\frac{a \\left(a - 1\\right)^{3}}{\\left(a + 1\\right)^{3}}\\end{matrix}\\right]$"
      ],
      "text/plain": [
       "Matrix([\n",
       "[ a*(a - 1)**3/(a + 1)**3],\n",
       "[-a*(a - 1)**3/(a + 1)**3]])"
      ]
     },
     "metadata": {},
     "output_type": "display_data"
    },
    {
     "name": "stdout",
     "output_type": "stream",
     "text": [
      "neues x\n",
      " \n"
     ]
    },
    {
     "data": {
      "text/latex": [
       "$\\displaystyle \\left[\\begin{matrix}\\frac{a \\left(a - 1\\right)^{4}}{\\left(a + 1\\right)^{4}}\\\\\\frac{\\left(a - 1\\right)^{4}}{\\left(a + 1\\right)^{4}}\\end{matrix}\\right]$"
      ],
      "text/plain": [
       "Matrix([\n",
       "[a*(a - 1)**4/(a + 1)**4],\n",
       "[  (a - 1)**4/(a + 1)**4]])"
      ]
     },
     "metadata": {},
     "output_type": "display_data"
    },
    {
     "name": "stdout",
     "output_type": "stream",
     "text": [
      "neue matrix\n"
     ]
    },
    {
     "data": {
      "text/latex": [
       "$\\displaystyle \\left[\\begin{matrix}a & \\frac{a \\left(a - 1\\right)}{a + 1} & \\frac{a \\left(a - 1\\right)^{2}}{\\left(a + 1\\right)^{2}} & \\frac{a \\left(a - 1\\right)^{3}}{\\left(a + 1\\right)^{3}} & \\frac{a \\left(a - 1\\right)^{4}}{\\left(a + 1\\right)^{4}}\\\\1 & - \\frac{a - 1}{a + 1} & \\frac{\\left(a - 1\\right)^{2}}{\\left(a + 1\\right)^{2}} & - \\frac{\\left(a - 1\\right)^{3}}{\\left(a + 1\\right)^{3}} & \\frac{\\left(a - 1\\right)^{4}}{\\left(a + 1\\right)^{4}}\\end{matrix}\\right]$"
      ],
      "text/plain": [
       "Matrix([\n",
       "[a, a*(a - 1)/(a + 1), a*(a - 1)**2/(a + 1)**2, a*(a - 1)**3/(a + 1)**3, a*(a - 1)**4/(a + 1)**4],\n",
       "[1,  -(a - 1)/(a + 1),   (a - 1)**2/(a + 1)**2,  -(a - 1)**3/(a + 1)**3,   (a - 1)**4/(a + 1)**4]])"
      ]
     },
     "metadata": {},
     "output_type": "display_data"
    },
    {
     "data": {
      "text/latex": [
       "$\\displaystyle \\left[\\begin{matrix}a & \\frac{a \\left(a - 1\\right)}{a + 1} & \\frac{a \\left(a - 1\\right)^{2}}{\\left(a + 1\\right)^{2}} & \\frac{a \\left(a - 1\\right)^{3}}{\\left(a + 1\\right)^{3}} & \\frac{a \\left(a - 1\\right)^{4}}{\\left(a + 1\\right)^{4}}\\\\1 & \\frac{1 - a}{a + 1} & \\frac{\\left(a - 1\\right)^{2}}{\\left(a + 1\\right)^{2}} & - \\frac{\\left(a - 1\\right)^{3}}{\\left(a + 1\\right)^{3}} & \\frac{\\left(a - 1\\right)^{4}}{\\left(a + 1\\right)^{4}}\\end{matrix}\\right]$"
      ],
      "text/plain": [
       "Matrix([\n",
       "[a, a*(a - 1)/(a + 1), a*(a - 1)**2/(a + 1)**2, a*(a - 1)**3/(a + 1)**3, a*(a - 1)**4/(a + 1)**4],\n",
       "[1,   (1 - a)/(a + 1),   (a - 1)**2/(a + 1)**2,  -(a - 1)**3/(a + 1)**3,   (a - 1)**4/(a + 1)**4]])"
      ]
     },
     "metadata": {},
     "output_type": "display_data"
    }
   ],
   "source": [
    "import numpy as np\n",
    "import pandas as pd\n",
    "from fractions import Fraction\n",
    "from sympy import *\n",
    "\n",
    "a = symbols('a')\n",
    "\n",
    "def nablaf(x):\n",
    "    return Matrix([x[0], a * x[1]])\n",
    "    \n",
    "def t(x):\n",
    "    return (x[0]**2 + ((a * x[1])**2))/(x[0]**2 + a**3 * x[1]**2)\n",
    "\n",
    "x = Matrix([a,1])\n",
    "\n",
    "for k in range(0,4):\n",
    "    print(\"Runde\", k+1, \"\\n\")\n",
    "    print(\"Aktuelles x[:,k]\\n\")\n",
    "    display(x[:,k])\n",
    "    newvec = x[:,k] - t(x[:,k]) * nablaf(x[:,k])\n",
    "    b = symbols('b')\n",
    "    b = simplify(t(x[:,k]))\n",
    "    print(\"Schrittweite t\\n\")\n",
    "    display(t(x[:,k]))\n",
    "    display(b)\n",
    "    print(\"Nabla f\\n\")\n",
    "    display(nablaf(x[:,k]).applyfunc(simplify))\n",
    "    vec= newvec.applyfunc(simplify)\n",
    "    print(\"neues x\\n \")\n",
    "    vec2 = vec.applyfunc(factor)\n",
    "    display(vec2)\n",
    "    x = x.row_join(vec2)\n",
    "    print(\"neue matrix\")\n",
    "    display(x)\n",
    "\n",
    "\n",
    "x_symp = x.applyfunc(simplify)\n",
    "\n",
    "display(x_symp)\n"
   ]
  }
 ],
 "metadata": {
  "kernelspec": {
   "display_name": ".venv",
   "language": "python",
   "name": "python3"
  },
  "language_info": {
   "codemirror_mode": {
    "name": "ipython",
    "version": 3
   },
   "file_extension": ".py",
   "mimetype": "text/x-python",
   "name": "python",
   "nbconvert_exporter": "python",
   "pygments_lexer": "ipython3",
   "version": "3.11.0"
  }
 },
 "nbformat": 4,
 "nbformat_minor": 2
}
